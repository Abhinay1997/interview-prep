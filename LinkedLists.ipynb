{
  "nbformat": 4,
  "nbformat_minor": 0,
  "metadata": {
    "colab": {
      "name": "LinkedLists.ipynb",
      "provenance": [],
      "collapsed_sections": [],
      "include_colab_link": true
    },
    "kernelspec": {
      "name": "python3",
      "display_name": "Python 3"
    }
  },
  "cells": [
    {
      "cell_type": "markdown",
      "metadata": {
        "id": "view-in-github",
        "colab_type": "text"
      },
      "source": [
        "<a href=\"https://colab.research.google.com/github/Abhinay1997/interview-prep/blob/master/LinkedLists.ipynb\" target=\"_parent\"><img src=\"https://colab.research.google.com/assets/colab-badge.svg\" alt=\"Open In Colab\"/></a>"
      ]
    },
    {
      "cell_type": "markdown",
      "metadata": {
        "id": "DSTKhcZJYEcL",
        "colab_type": "text"
      },
      "source": [
        "## Linked Lists:\n",
        "* Singly Linked List\n",
        "* Circular Linked List\n",
        "* Doubly Linked List\n",
        "* Positional List\n",
        "\n",
        "A singly linked list in its simplest form is a collection of nodes that collectively form a linear sequence."
      ]
    },
    {
      "cell_type": "code",
      "metadata": {
        "id": "VVvyeXuSX0QX",
        "colab_type": "code",
        "colab": {}
      },
      "source": [
        "class Empty(Exception):\n",
        "  \"\"\"Called when Data Structure is Empty\"\"\"\n",
        "  pass\n",
        "\n",
        "class InvalidIndex(Exception):\n",
        "  pass\n",
        "\n",
        "class Node:\n",
        "  def __init__(self,val=None):\n",
        "    self.val = val\n",
        "    self.next = None\n",
        "\n",
        "class SLinkedList:\n",
        "  \"\"\"A singly linked list with no tail pointer\"\"\"\n",
        "  def __init__(self):\n",
        "    self.head = None\n",
        "    self._size = 0\n",
        "\n",
        "  def __len__(self):\n",
        "    return self._size\n",
        "\n",
        "  def is_empty(self):\n",
        "    return self._size == 0\n",
        "\n",
        "  def insert_at(self,index,val):\n",
        "    if index < 0 or index >= self._size:\n",
        "      raise InvalidIndex('List index exceeded')\n",
        "    elif index == 0:\n",
        "      return self.push_front(val)\n",
        "    elif index == self._size - 1:\n",
        "      return self.push_last(val)\n",
        "    else:\n",
        "      # for middle elements\n",
        "      ptr = self.head\n",
        "      temp = Node(val)\n",
        "      count = 0\n",
        "      while count < index - 1 :\n",
        "        #go till index - 1 th element\n",
        "        ptr = ptr.next\n",
        "        count += 1\n",
        "      #update index - 1 th next to point to temp\n",
        "      temp.next = ptr.next\n",
        "      ptr.next = temp\n",
        "      self._size += 1\n",
        "\n",
        "  def erase_at(self,index):\n",
        "    if index < 0 or index >= self._size:\n",
        "      raise InvalidIndex('List index exceeded')\n",
        "    elif self.is_empty():\n",
        "      raise Empty('List is empty')  \n",
        "    elif index == 0:\n",
        "      self.pop_front()\n",
        "      return True  \n",
        "    elif index == self._size - 1:\n",
        "      self.pop_back()\n",
        "    else:\n",
        "      #Erase from middle of SLL by iterating till index - 1 th element and shift references\n",
        "      ptr = self.head\n",
        "      count = 0\n",
        "      while count < index - 1:\n",
        "        ptr = ptr.next\n",
        "        count += 1\n",
        "      ptr.next = ptr.next.next\n",
        "      self._size -= 1\n",
        "\n",
        "  def front(self):    \n",
        "    \"\"\"Return the first element of the SLL\"\"\"\n",
        "    if self.is_empty():\n",
        "      raise Empty('Empty Linked List')\n",
        "    else:\n",
        "      return self.head.val\n",
        "\n",
        "  def back(self):\n",
        "    \"\"\"Return the last element of the SLL\"\"\"    \n",
        "    if self.is_empty():\n",
        "      raise Empty('Empty Linked List')\n",
        "    else:\n",
        "      ptr = self.head\n",
        "      while ptr.next != None:\n",
        "          ptr = ptr.next\n",
        "      #KEEP GOING TILL ptr REFERS TO THE LAST NODE\n",
        "      #SHOW LAST NODE VALUE\n",
        "      return ptr.val\n",
        "  \n",
        "  def value_at(self,index):\n",
        "    ptr = self.head\n",
        "    if index >= self._size or index < 0:\n",
        "      raise InvalidIndex('Invalid Index')\n",
        "    for i in range(index):\n",
        "      ptr = ptr.next\n",
        "    return ptr.val  \n",
        "    \n",
        "  def push_front(self,val):\n",
        "    \"\"\"Push val to the front of the SLL\"\"\"\n",
        "    #Create a new node\n",
        "    temp = Node(val)\n",
        "    #old head node becomes the next node of the temp node\n",
        "    temp.next = self.head\n",
        "    #New head node is the temp node\n",
        "    self.head = temp\n",
        "    self._size += 1\n",
        "\n",
        "  def push_last(self,val):\n",
        "    \"\"\"Without tail ptr so you need to iterate till the Node which has no next reference and change its refernce to new node\"\"\"  \n",
        "    ptr = self.head\n",
        "    while ptr.next != None:\n",
        "      ptr = ptr.next\n",
        "    temp = Node(val)\n",
        "    #Now ptr refers to the last node and ptr.next will be None. We replace this with temp node\n",
        "    ptr.next = temp\n",
        "    self._size += 1\n",
        "\n",
        "  def pop_front(self):\n",
        "    \"\"\"Remove the first node and return its value\"\"\"\n",
        "    #Retrieve the first value to return it and updates head node\n",
        "    temp = self.head.val\n",
        "    self.head = self.head.next\n",
        "    self._size -= 1\n",
        "    return temp\n",
        "  \n",
        "  def pop_back(self):\n",
        "    \"\"\"Removes the last node and returns it value\"\"\"\n",
        "    #Here we need to iterate till the node before the last node to be able to \n",
        "    #change its ptr\n",
        "    if self.is_empty():\n",
        "      raise Empty('LinkedList is Empty')\n",
        "    if self._size == 1:\n",
        "      temp = self.head.val\n",
        "      self._size -= 1\n",
        "      self.head = None\n",
        "      return temp\n",
        "    ptr = self.head\n",
        "    #while ptr.next.next != None: Bad idea for one element Lists cause NoneType object error\n",
        "    count = 0\n",
        "    while count < self._size - 2:\n",
        "      # remeber that we are iterating till last but one element\n",
        "      print(ptr.val)\n",
        "      ptr = ptr.next\n",
        "      count += 1\n",
        "    #Val to be returned is in ptr.next.val\n",
        "    temp = ptr.next.val\n",
        "    ptr.next = None\n",
        "    self._size -= 1\n",
        "    return temp  \n",
        "  \n",
        "  def value_n_from_end(self,n):\n",
        "    \"\"\"Return n-th value from end. So 1st element from end is at size-1 index i.e nth must be size-n index\"\"\"\n",
        "    return self.value_at(self._size - n)\n",
        "\n",
        "  def print_nodes(self):\n",
        "    \"\"\"Convenience function to iterate over all nodes in the SLL\"\"\"\n",
        "    ptr = self.head\n",
        "    while ptr != None:\n",
        "      print('->',ptr.val,end='')\n",
        "      ptr = ptr.next\n",
        "\n",
        "  def reverse(self):\n",
        "    \"\"\"Function to reverse the entire linked list\"\"\"\n",
        "    prev = None\n",
        "    curr = self.head\n",
        "    while curr != None:\n",
        "      next = curr.next\n",
        "      curr.next = prev\n",
        "      prev = curr\n",
        "      curr = next\n",
        "    self.head = prev      "
      ],
      "execution_count": 0,
      "outputs": []
    },
    {
      "cell_type": "code",
      "metadata": {
        "id": "EPG7-fByiZod",
        "colab_type": "code",
        "outputId": "c21feaf5-58f2-4e21-d81d-a3b4f92b3255",
        "colab": {
          "base_uri": "https://localhost:8080/",
          "height": 68
        }
      },
      "source": [
        "x = SLinkedList()\n",
        "x.push_front(2)\n",
        "x.push_front(4)\n",
        "x.push_last(5)\n",
        "x.push_front(1)\n",
        "x.pop_back()"
      ],
      "execution_count": 0,
      "outputs": [
        {
          "output_type": "stream",
          "text": [
            "1\n",
            "4\n"
          ],
          "name": "stdout"
        },
        {
          "output_type": "execute_result",
          "data": {
            "text/plain": [
              "5"
            ]
          },
          "metadata": {
            "tags": []
          },
          "execution_count": 148
        }
      ]
    },
    {
      "cell_type": "code",
      "metadata": {
        "id": "_Q5xERu0kTeT",
        "colab_type": "code",
        "outputId": "b415184d-b41a-4d96-96d3-3a1149fc7d9c",
        "colab": {
          "base_uri": "https://localhost:8080/",
          "height": 136
        }
      },
      "source": [
        "x.print_nodes()\n",
        "print('\\nLength is ',len(x))\n",
        "print('Front',x.front())\n",
        "print('Back',x.back())\n",
        "print('Value at index',x.value_at(0))\n",
        "x.pop_front()\n",
        "x.print_nodes()\n",
        "x.pop_back()\n",
        "print('Now')\n",
        "x.print_nodes()\n",
        "print('Length',len(x))"
      ],
      "execution_count": 0,
      "outputs": [
        {
          "output_type": "stream",
          "text": [
            "-> 1-> 4-> 2\n",
            "Length is  3\n",
            "Front 1\n",
            "Back 2\n",
            "Value at index 1\n",
            "-> 4-> 2Now\n",
            "-> 4Length 1\n"
          ],
          "name": "stdout"
        }
      ]
    },
    {
      "cell_type": "code",
      "metadata": {
        "id": "ssk1Moggp43O",
        "colab_type": "code",
        "outputId": "507a8fc9-3c5e-42e0-b48e-1801d248517a",
        "colab": {
          "base_uri": "https://localhost:8080/",
          "height": 51
        }
      },
      "source": [
        "x.pop_back()\n",
        "for i in range(20):\n",
        "  x.push_front(i)\n",
        "x.print_nodes()\n",
        "print(x.value_at(0))\n",
        "print(x.value_n_from_end(20))  "
      ],
      "execution_count": 0,
      "outputs": [
        {
          "output_type": "stream",
          "text": [
            "-> 19-> 18-> 17-> 16-> 15-> 14-> 13-> 12-> 11-> 10-> 9-> 8-> 7-> 6-> 5-> 4-> 3-> 2-> 1-> 019\n",
            "19\n"
          ],
          "name": "stdout"
        }
      ]
    },
    {
      "cell_type": "code",
      "metadata": {
        "id": "Il35uolVA1W6",
        "colab_type": "code",
        "outputId": "6bfdc9ec-8fdc-4901-9463-6b7fce5b4976",
        "colab": {
          "base_uri": "https://localhost:8080/",
          "height": 85
        }
      },
      "source": [
        "\n",
        "\n",
        "x.insert_at(5,1000)\n",
        "x.print_nodes()\n",
        "print('\\nLen',len(x))\n",
        "x.erase_at(5)\n",
        "x.print_nodes()\n",
        "print('\\nLen',len(x))"
      ],
      "execution_count": 0,
      "outputs": [
        {
          "output_type": "stream",
          "text": [
            "-> 19-> 18-> 17-> 16-> 15-> 1000-> 14-> 13-> 12-> 11-> 10-> 9-> 8-> 7-> 6-> 5-> 4-> 3-> 2-> 1-> 0\n",
            "Len 21\n",
            "-> 19-> 18-> 17-> 16-> 15-> 14-> 13-> 12-> 11-> 10-> 9-> 8-> 7-> 6-> 5-> 4-> 3-> 2-> 1-> 0\n",
            "Len 20\n"
          ],
          "name": "stdout"
        }
      ]
    },
    {
      "cell_type": "code",
      "metadata": {
        "id": "0iO8ATJEGsK0",
        "colab_type": "code",
        "outputId": "28eefab2-8343-41fd-ff2b-1f65c6d0d080",
        "colab": {
          "base_uri": "https://localhost:8080/",
          "height": 34
        }
      },
      "source": [
        "x.reverse()\n",
        "x.print_nodes()"
      ],
      "execution_count": 0,
      "outputs": [
        {
          "output_type": "stream",
          "text": [
            "-> 0-> 1-> 2-> 3-> 4-> 5-> 6-> 7-> 8-> 9-> 10-> 11-> 12-> 13-> 14-> 15-> 16-> 17-> 18-> 19"
          ],
          "name": "stdout"
        }
      ]
    }
  ]
}