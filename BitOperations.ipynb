{
  "nbformat": 4,
  "nbformat_minor": 0,
  "metadata": {
    "colab": {
      "name": "BitOperations.ipynb",
      "provenance": [],
      "include_colab_link": true
    },
    "kernelspec": {
      "name": "python3",
      "display_name": "Python 3"
    }
  },
  "cells": [
    {
      "cell_type": "markdown",
      "metadata": {
        "id": "view-in-github",
        "colab_type": "text"
      },
      "source": [
        "<a href=\"https://colab.research.google.com/github/Abhinay1997/interview-prep/blob/master/BitOperations.ipynb\" target=\"_parent\"><img src=\"https://colab.research.google.com/assets/colab-badge.svg\" alt=\"Open In Colab\"/></a>"
      ]
    },
    {
      "cell_type": "markdown",
      "metadata": {
        "id": "UXBcDCRqBd5V",
        "colab_type": "text"
      },
      "source": [
        "## BitWise Operators\n",
        "```\n",
        "& - And\n",
        "| - OR\n",
        "~ - Not\n",
        "^ - XOR\n",
        ">> RightShift\n",
        "<< LeftShift\n",
        "```"
      ]
    },
    {
      "cell_type": "code",
      "metadata": {
        "id": "sTLGMiYv_bvK",
        "colab_type": "code",
        "outputId": "ce896ddf-2490-4b63-acb1-87ce66bdbcf2",
        "colab": {
          "base_uri": "https://localhost:8080/",
          "height": 51
        }
      },
      "source": [
        "## Tips and Tricks \n",
        "# XOR we know that 1 ^ 0 = 1 and 1 ^ 1 = 0 and 0 ^ 0 = 1\n",
        "temp = -20\n",
        "print(temp >> 2)\n",
        "#Python has no seperate logical right shift. The >> is arithmetic right shift\n",
        "print(-temp >> 2 )\n",
        "\n"
      ],
      "execution_count": 0,
      "outputs": [
        {
          "output_type": "stream",
          "text": [
            "-5\n",
            "5\n"
          ],
          "name": "stdout"
        }
      ]
    },
    {
      "cell_type": "code",
      "metadata": {
        "id": "R1LK-a7r2Zhp",
        "colab_type": "code",
        "outputId": "c7b63fad-3e3c-43a2-8c75-68acb46da201",
        "colab": {
          "base_uri": "https://localhost:8080/",
          "height": 34
        }
      },
      "source": [
        "# Getting a bit and Setting a bit\n",
        "# How do you get a bit ? We can use a mask and or it ? Nah everything will be 1's\n",
        "# Maybe we xor it with 0's ? If bit is 1 there we'll get 1 or else if 0 we'll get 0\n",
        "# Apparently we only want the one bit there. This is possible by using a mask like 0b00001000 where 1 is the position of the bit we want\n",
        "temp = 0b00100\n",
        "print(bin(temp & (0b1 << 2)))"
      ],
      "execution_count": 0,
      "outputs": [
        {
          "output_type": "stream",
          "text": [
            "0b100\n"
          ],
          "name": "stdout"
        }
      ]
    },
    {
      "cell_type": "code",
      "metadata": {
        "id": "Rq_Ftp7i4G3y",
        "colab_type": "code",
        "colab": {}
      },
      "source": [
        "def get_bit(bin_int,pos):\n",
        "  '''We return the ith bit where i is zero indexed. This is possible by using a mask with zeroes and 1 at the bit location where we \n",
        "  need the bit and anding this mask and the number. '''\n",
        "  return (bin_int & (0b1 << pos)) != 0"
      ],
      "execution_count": 0,
      "outputs": []
    },
    {
      "cell_type": "code",
      "metadata": {
        "id": "KpMaKKKx5cCo",
        "colab_type": "code",
        "colab": {}
      },
      "source": [
        "def set_bit(bin_int,pos):\n",
        "  '''We return a new bin_int after setting the bit at the given pos. This is also zero indexed and made possible by using the same mask as before \n",
        "  but using the OR operation'''\n",
        "  return bin(bin_int | (0b1 << pos))"
      ],
      "execution_count": 0,
      "outputs": []
    },
    {
      "cell_type": "code",
      "metadata": {
        "id": "g_y5qYEP877S",
        "colab_type": "code",
        "outputId": "ec77ec63-bee1-40ec-d4ec-ee1938ad18a2",
        "colab": {
          "base_uri": "https://localhost:8080/",
          "height": 34
        }
      },
      "source": [
        "set_bit(0b0,11)"
      ],
      "execution_count": 0,
      "outputs": [
        {
          "output_type": "execute_result",
          "data": {
            "text/plain": [
              "'0b100000000000'"
            ]
          },
          "metadata": {
            "tags": []
          },
          "execution_count": 5
        }
      ]
    },
    {
      "cell_type": "code",
      "metadata": {
        "id": "pMFVIDTQ9Q0Q",
        "colab_type": "code",
        "colab": {}
      },
      "source": [
        "def clear_bit(bin_int,pos):\n",
        "  '''Logically we should return a bin_int with the bit at pos made zero. Possible by using a complement of the previous mask and AND '''\n",
        "  return bin(bin_int & ~(0b1 << pos))"
      ],
      "execution_count": 0,
      "outputs": []
    },
    {
      "cell_type": "code",
      "metadata": {
        "id": "KiuZY_vL-eQc",
        "colab_type": "code",
        "outputId": "3cefd60d-e564-41e5-f91b-e70dd9624f72",
        "colab": {
          "base_uri": "https://localhost:8080/",
          "height": 34
        }
      },
      "source": [
        "clear_bit(0b10001111,2)"
      ],
      "execution_count": 0,
      "outputs": [
        {
          "output_type": "execute_result",
          "data": {
            "text/plain": [
              "'0b10001011'"
            ]
          },
          "metadata": {
            "tags": []
          },
          "execution_count": 7
        }
      ]
    },
    {
      "cell_type": "code",
      "metadata": {
        "id": "-CZ-TMxYOEHL",
        "colab_type": "code",
        "colab": {}
      },
      "source": [
        "def clear_MSB_to_i(bin_int,i):\n",
        "  \"\"\"Clear all the bits from MSB to i-th position inclusive\"\"\"\n",
        "  return bin(bin_int & ((1 << i)-1))"
      ],
      "execution_count": 0,
      "outputs": []
    },
    {
      "cell_type": "code",
      "metadata": {
        "id": "d3_uEm79PYQY",
        "colab_type": "code",
        "outputId": "e701c35c-735e-41cf-eede-e473804ff6d4",
        "colab": {
          "base_uri": "https://localhost:8080/",
          "height": 34
        }
      },
      "source": [
        "clear_MSB_to_i(0b11111100,6)"
      ],
      "execution_count": 0,
      "outputs": [
        {
          "output_type": "execute_result",
          "data": {
            "text/plain": [
              "'0b111100'"
            ]
          },
          "metadata": {
            "tags": []
          },
          "execution_count": 17
        }
      ]
    },
    {
      "cell_type": "code",
      "metadata": {
        "id": "BwzHLdDVPwNN",
        "colab_type": "code",
        "colab": {}
      },
      "source": [
        "def clear_i_to_0(bin_int,i):\n",
        "  \"\"\"Clear all bits from i to 0. i exclusive\"\"\"\n",
        "  return bin(bin_int & (-1 << i))"
      ],
      "execution_count": 0,
      "outputs": []
    },
    {
      "cell_type": "code",
      "metadata": {
        "id": "ToP4nQXXQAtx",
        "colab_type": "code",
        "outputId": "459a4a3f-0c7a-44f5-fa74-a13832786164",
        "colab": {
          "base_uri": "https://localhost:8080/",
          "height": 34
        }
      },
      "source": [
        "clear_i_to_0(0b1001001011,3)"
      ],
      "execution_count": 0,
      "outputs": [
        {
          "output_type": "execute_result",
          "data": {
            "text/plain": [
              "'0b1001001000'"
            ]
          },
          "metadata": {
            "tags": []
          },
          "execution_count": 19
        }
      ]
    },
    {
      "cell_type": "code",
      "metadata": {
        "id": "rNIbTvhhTMu4",
        "colab_type": "code",
        "colab": {}
      },
      "source": [
        "def insert_m_to_n(N,M,j,i):\n",
        "  \"\"\"Insert m into n where j and i are indices to insert between.\"\"\"\n",
        "  #mask = ~(1 << j)\n",
        "  #while j > i:\n",
        "  #  j-=1\n",
        "  #  mask &= ~(1<<j)\n",
        "  # Not a pretty good way to make a mask. We can   \n",
        "  mask = (-1 << j+1) | ((1 << i) -1 )\n",
        "  M = M << i\n",
        "  return bin((mask & N )| M)  \n",
        "  "
      ],
      "execution_count": 0,
      "outputs": []
    },
    {
      "cell_type": "code",
      "metadata": {
        "id": "J8rERdtaT9BL",
        "colab_type": "code",
        "outputId": "ff69c48b-7161-401f-aabd-1ee004c28470",
        "colab": {
          "base_uri": "https://localhost:8080/",
          "height": 34
        }
      },
      "source": [
        "n = 0b100000000\n",
        "m = 0b10011\n",
        "insert_m_to_n(n,m,5,1)"
      ],
      "execution_count": 0,
      "outputs": [
        {
          "output_type": "execute_result",
          "data": {
            "text/plain": [
              "'0b100100110'"
            ]
          },
          "metadata": {
            "tags": []
          },
          "execution_count": 46
        }
      ]
    },
    {
      "cell_type": "code",
      "metadata": {
        "id": "LNAPx-Zcjd4Q",
        "colab_type": "code",
        "outputId": "5fe905f1-b562-4cea-ac4e-5fa133548ae6",
        "colab": {
          "base_uri": "https://localhost:8080/",
          "height": 34
        }
      },
      "source": [
        "bin((0b111 << 6) )"
      ],
      "execution_count": 0,
      "outputs": [
        {
          "output_type": "execute_result",
          "data": {
            "text/plain": [
              "'0b111000000'"
            ]
          },
          "metadata": {
            "tags": []
          },
          "execution_count": 34
        }
      ]
    }
  ]
}