{
  "nbformat": 4,
  "nbformat_minor": 0,
  "metadata": {
    "colab": {
      "name": "Sorting.ipynb",
      "provenance": [],
      "collapsed_sections": [],
      "include_colab_link": true
    },
    "kernelspec": {
      "name": "python3",
      "display_name": "Python 3"
    }
  },
  "cells": [
    {
      "cell_type": "markdown",
      "metadata": {
        "id": "view-in-github",
        "colab_type": "text"
      },
      "source": [
        "<a href=\"https://colab.research.google.com/github/Abhinay1997/interview-prep/blob/master/Sorting.ipynb\" target=\"_parent\"><img src=\"https://colab.research.google.com/assets/colab-badge.svg\" alt=\"Open In Colab\"/></a>"
      ]
    },
    {
      "cell_type": "markdown",
      "metadata": {
        "id": "TwPhiTWj5jsM",
        "colab_type": "text"
      },
      "source": [
        "#### Sorting Algorithms\n",
        "1. Insertion\n",
        "2. Selection\n",
        "3. Bubble\n",
        "4. Quick"
      ]
    },
    {
      "cell_type": "markdown",
      "metadata": {
        "id": "QPyF4gBoJasY",
        "colab_type": "text"
      },
      "source": [
        "##### Selection Sort\n",
        "It works by maintaining two sub arrays. One is sorted. The other is not.\n",
        "Ex:\n",
        "```\n",
        "1 4 6 2 3\n",
        "# The 1st iter looks for min element in arr[0...4]\n",
        "1 4 6 2 3\n",
        "# The 2nd iter looks for min element in arr[1...4]\n",
        "1 2 4 6 3\n",
        "# The 3rd iter looks for min element in arr[2...4]\n",
        ".\n",
        ".\n",
        ".\n",
        "Finally\n",
        "1 2 3 4 6\n",
        "```\n",
        "The concept is selecting the min/max from unsorted array and exchanging its position with the first element in unsorted array. This first elemnt becomes last elment of sorted array for the next iteration."
      ]
    },
    {
      "cell_type": "code",
      "metadata": {
        "id": "q35fgIAo5gxE",
        "colab_type": "code",
        "colab": {}
      },
      "source": [
        "def selection_sort(A):\n",
        "  #i = 0\n",
        "  for j in range(len(A)):\n",
        "    min_indx = j\n",
        "    for k in range(j+1,len(A)):\n",
        "      if A[k] < A[min_indx]:\n",
        "        min_indx = k\n",
        "    A[min_indx],A[j] = A[j],A[min_indx]\n",
        "    \n",
        "  return A"
      ],
      "execution_count": 0,
      "outputs": []
    },
    {
      "cell_type": "markdown",
      "metadata": {
        "id": "RfR_RkbnejLy",
        "colab_type": "text"
      },
      "source": [
        ""
      ]
    },
    {
      "cell_type": "markdown",
      "metadata": {
        "id": "_Vqyx6pn5mkW",
        "colab_type": "text"
      },
      "source": [
        "##### Insertion Sort\n",
        "\n",
        "```\n",
        "Step 1 − If it is the first element, it is already sorted. return 1;\n",
        "Step 2 − Pick next element\n",
        "Step 3 − Compare with all elements in the sorted sub-list\n",
        "Step 4 − Shift all the elements in the sorted sub-list that is greater than the \n",
        "         value to be sorted\n",
        "Step 5 − Insert the value\n",
        "Step 6 − Repeat until list is sorted\n",
        "```"
      ]
    },
    {
      "cell_type": "code",
      "metadata": {
        "id": "SxGueaqnLvQH",
        "colab_type": "code",
        "colab": {}
      },
      "source": [
        "def insertion_sort(A):\n",
        "  for i in range(len(A)):\n",
        "    j = i\n",
        "    while j>0 and A[j-1] > A[j]:\n",
        "      A[j],A[j-1] = A[j-1],A[j]\n",
        "      print(A)\n",
        "      j-=1\n",
        "  return A  \n"
      ],
      "execution_count": 0,
      "outputs": []
    },
    {
      "cell_type": "markdown",
      "metadata": {
        "id": "vX23M5cqf6Vy",
        "colab_type": "text"
      },
      "source": [
        "##### Bubble Sort"
      ]
    },
    {
      "cell_type": "code",
      "metadata": {
        "id": "cBujfDv-7H4v",
        "colab_type": "code",
        "colab": {}
      },
      "source": [
        "def bubble_sort(A):\n",
        "  #After the 1st iteration the last element is in the right position. After 2 iterations, last 2 elements are sorted.\n",
        "  n = len(A)\n",
        "  for i in range(n):\n",
        "    for j in range(0,n-i-1):\n",
        "      if A[j] > A[j+1]:\n",
        "        A[j],A[j+1] = A[j+1],A[j]\n",
        "      print(A)  \n",
        "  return A      "
      ],
      "execution_count": 0,
      "outputs": []
    },
    {
      "cell_type": "code",
      "metadata": {
        "id": "gv6lMCoafaHc",
        "colab_type": "code",
        "outputId": "27557b35-ebeb-4746-da8b-119a55d4bd50",
        "colab": {
          "base_uri": "https://localhost:8080/",
          "height": 374
        }
      },
      "source": [
        "print('Selection Sort')\n",
        "print(selection_sort([5,2,4,1,6]))\n",
        "print('Insertion Sort')\n",
        "print(insertion_sort([5,2,4,1,6]))\n",
        "print('Bubble Sort')\n",
        "print(bubble_sort([5,2,4,1,6]))"
      ],
      "execution_count": 0,
      "outputs": [
        {
          "output_type": "stream",
          "text": [
            "Selection Sort\n",
            "[1, 2, 4, 5, 6]\n",
            "Insertion Sort\n",
            "[2, 5, 4, 1, 6]\n",
            "[2, 4, 5, 1, 6]\n",
            "[2, 4, 1, 5, 6]\n",
            "[2, 1, 4, 5, 6]\n",
            "[1, 2, 4, 5, 6]\n",
            "[1, 2, 4, 5, 6]\n",
            "Bubble Sort\n",
            "[2, 5, 4, 1, 6]\n",
            "[2, 4, 5, 1, 6]\n",
            "[2, 4, 1, 5, 6]\n",
            "[2, 4, 1, 5, 6]\n",
            "[2, 4, 1, 5, 6]\n",
            "[2, 1, 4, 5, 6]\n",
            "[2, 1, 4, 5, 6]\n",
            "[1, 2, 4, 5, 6]\n",
            "[1, 2, 4, 5, 6]\n",
            "[1, 2, 4, 5, 6]\n",
            "[1, 2, 4, 5, 6]\n"
          ],
          "name": "stdout"
        }
      ]
    },
    {
      "cell_type": "markdown",
      "metadata": {
        "id": "ZSn7HI_NGD5l",
        "colab_type": "text"
      },
      "source": [
        "##### Quick Sort\n",
        "This algorithm is a divide and conquer approach. A pivot element is chosen and the array is seperated into 2 parts. The first part consists of all elements smaller than the pivot and the second part consists of all elements greater than the pivot.\n",
        "\n",
        "The pivot can be:\n",
        "1. The first element\n",
        "2. The last element\n",
        "3. A random element\n",
        "4. Median value of array elements.\n",
        "\n",
        "```\n",
        "function quicksort(Array,low,high):\n",
        "   #Here low = 0 and high = len(Array) since this is the start of the algorithm\n",
        "   if (low<high){\n",
        "     pivot = partition(Array,low,high);\n",
        "     quicksort(Array,low,pivot-1);\n",
        "     quicksort(Array,pivot+1,high);\n",
        "   }\n",
        "\n",
        "function partition(Array,low,high):\n",
        "   pivot = Array[high];\n",
        "   i = low;\n",
        "   for(j=low;j<high;j++){\n",
        "     if (Array[j]<pivot){\n",
        "       swap Array[j],Array[i];\n",
        "       i+=1;\n",
        "     }\n",
        "   }\n",
        "   swap Array[i],Array[high];\n",
        "   return i;\n",
        "```"
      ]
    },
    {
      "cell_type": "code",
      "metadata": {
        "id": "ZGnYV-srGCED",
        "colab_type": "code",
        "colab": {}
      },
      "source": [
        "def quicksort(A,low,high):\n",
        "  if low<high:\n",
        "    pi = partition(A,low,high)\n",
        "    quicksort(A,low,pi-1)\n",
        "    quicksort(A,pi+1,high)\n",
        "  return A\n",
        "def partition(A,low,high):\n",
        "  pivot = A[high]\n",
        "  i = low\n",
        "  for j in range(low,high):\n",
        "    if A[j] < pivot:\n",
        "      A[i],A[j] = A[j],A[i]\n",
        "      i+=1\n",
        "  A[high],A[i] = A[i],A[high]\n",
        "  return i"
      ],
      "execution_count": 0,
      "outputs": []
    },
    {
      "cell_type": "code",
      "metadata": {
        "id": "OJ1A04N0xByx",
        "colab_type": "code",
        "colab": {
          "base_uri": "https://localhost:8080/",
          "height": 34
        },
        "outputId": "7ba72f62-9e2c-40dc-dbb3-83413db7e8fc"
      },
      "source": [
        "quicksort([3,5,2,4,7,1,0,8],0,7)"
      ],
      "execution_count": 7,
      "outputs": [
        {
          "output_type": "execute_result",
          "data": {
            "text/plain": [
              "[0, 1, 2, 3, 4, 5, 7, 8]"
            ]
          },
          "metadata": {
            "tags": []
          },
          "execution_count": 7
        }
      ]
    }
  ]
}